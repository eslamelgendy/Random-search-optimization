{
 "cells": [
  {
   "cell_type": "code",
   "execution_count": 47,
   "metadata": {},
   "outputs": [],
   "source": [
    "import pandas as pd \n",
    "import numpy as np \n",
    "import random\n",
    "import matplotlib.pyplot as plt \n",
    "from math import sqrt\n",
    "%matplotlib qt"
   ]
  },
  {
   "cell_type": "code",
   "execution_count": 48,
   "metadata": {},
   "outputs": [],
   "source": [
    "np.random.seed(100)"
   ]
  },
  {
   "cell_type": "code",
   "execution_count": 49,
   "metadata": {},
   "outputs": [
    {
     "data": {
      "text/html": [
       "<div>\n",
       "<style scoped>\n",
       "    .dataframe tbody tr th:only-of-type {\n",
       "        vertical-align: middle;\n",
       "    }\n",
       "\n",
       "    .dataframe tbody tr th {\n",
       "        vertical-align: top;\n",
       "    }\n",
       "\n",
       "    .dataframe thead th {\n",
       "        text-align: right;\n",
       "    }\n",
       "</style>\n",
       "<table border=\"1\" class=\"dataframe\">\n",
       "  <thead>\n",
       "    <tr style=\"text-align: right;\">\n",
       "      <th></th>\n",
       "      <th>x</th>\n",
       "      <th>y</th>\n",
       "      <th>City</th>\n",
       "    </tr>\n",
       "  </thead>\n",
       "  <tbody>\n",
       "    <tr>\n",
       "      <th>0</th>\n",
       "      <td>5.500000e-08</td>\n",
       "      <td>9.860000e-09</td>\n",
       "      <td>1</td>\n",
       "    </tr>\n",
       "    <tr>\n",
       "      <th>1</th>\n",
       "      <td>-2.887330e+01</td>\n",
       "      <td>-7.980000e-08</td>\n",
       "      <td>2</td>\n",
       "    </tr>\n",
       "    <tr>\n",
       "      <th>2</th>\n",
       "      <td>-7.929160e+01</td>\n",
       "      <td>-2.140330e+01</td>\n",
       "      <td>3</td>\n",
       "    </tr>\n",
       "    <tr>\n",
       "      <th>3</th>\n",
       "      <td>-1.465770e+01</td>\n",
       "      <td>-4.338960e+01</td>\n",
       "      <td>4</td>\n",
       "    </tr>\n",
       "    <tr>\n",
       "      <th>4</th>\n",
       "      <td>-6.474730e+01</td>\n",
       "      <td>2.189820e+01</td>\n",
       "      <td>5</td>\n",
       "    </tr>\n",
       "    <tr>\n",
       "      <th>5</th>\n",
       "      <td>-2.905850e+01</td>\n",
       "      <td>-4.321670e+01</td>\n",
       "      <td>6</td>\n",
       "    </tr>\n",
       "    <tr>\n",
       "      <th>6</th>\n",
       "      <td>-7.207850e+01</td>\n",
       "      <td>1.815810e-01</td>\n",
       "      <td>7</td>\n",
       "    </tr>\n",
       "    <tr>\n",
       "      <th>7</th>\n",
       "      <td>-3.603660e+01</td>\n",
       "      <td>-2.161350e+01</td>\n",
       "      <td>8</td>\n",
       "    </tr>\n",
       "    <tr>\n",
       "      <th>8</th>\n",
       "      <td>-5.048080e+01</td>\n",
       "      <td>7.374470e+00</td>\n",
       "      <td>9</td>\n",
       "    </tr>\n",
       "    <tr>\n",
       "      <th>9</th>\n",
       "      <td>-5.058590e+01</td>\n",
       "      <td>-2.158820e+01</td>\n",
       "      <td>10</td>\n",
       "    </tr>\n",
       "    <tr>\n",
       "      <th>10</th>\n",
       "      <td>-1.358190e-01</td>\n",
       "      <td>-2.872930e+01</td>\n",
       "      <td>11</td>\n",
       "    </tr>\n",
       "    <tr>\n",
       "      <th>11</th>\n",
       "      <td>-6.508660e+01</td>\n",
       "      <td>-3.606250e+01</td>\n",
       "      <td>12</td>\n",
       "    </tr>\n",
       "    <tr>\n",
       "      <th>12</th>\n",
       "      <td>-2.149830e+01</td>\n",
       "      <td>7.319420e+00</td>\n",
       "      <td>13</td>\n",
       "    </tr>\n",
       "    <tr>\n",
       "      <th>13</th>\n",
       "      <td>-5.756870e+01</td>\n",
       "      <td>-4.325060e+01</td>\n",
       "      <td>14</td>\n",
       "    </tr>\n",
       "    <tr>\n",
       "      <th>14</th>\n",
       "      <td>-4.307000e+01</td>\n",
       "      <td>1.455480e+01</td>\n",
       "      <td>15</td>\n",
       "    </tr>\n",
       "  </tbody>\n",
       "</table>\n",
       "</div>"
      ],
      "text/plain": [
       "               x             y  City\n",
       "0   5.500000e-08  9.860000e-09     1\n",
       "1  -2.887330e+01 -7.980000e-08     2\n",
       "2  -7.929160e+01 -2.140330e+01     3\n",
       "3  -1.465770e+01 -4.338960e+01     4\n",
       "4  -6.474730e+01  2.189820e+01     5\n",
       "5  -2.905850e+01 -4.321670e+01     6\n",
       "6  -7.207850e+01  1.815810e-01     7\n",
       "7  -3.603660e+01 -2.161350e+01     8\n",
       "8  -5.048080e+01  7.374470e+00     9\n",
       "9  -5.058590e+01 -2.158820e+01    10\n",
       "10 -1.358190e-01 -2.872930e+01    11\n",
       "11 -6.508660e+01 -3.606250e+01    12\n",
       "12 -2.149830e+01  7.319420e+00    13\n",
       "13 -5.756870e+01 -4.325060e+01    14\n",
       "14 -4.307000e+01  1.455480e+01    15"
      ]
     },
     "execution_count": 49,
     "metadata": {},
     "output_type": "execute_result"
    }
   ],
   "source": [
    "data = pd.read_excel('15-Points.xlsx')\n",
    "data"
   ]
  },
  {
   "cell_type": "code",
   "execution_count": 50,
   "metadata": {},
   "outputs": [],
   "source": [
    "def load_data(data):\n",
    "  data = [{'x' : x[0], 'y' : x[1], 'city' : x[2]} for x in data.values]\n",
    "  return data"
   ]
  },
  {
   "cell_type": "code",
   "execution_count": 51,
   "metadata": {},
   "outputs": [],
   "source": [
    "def Generate_distance(data):\n",
    "    n = len(data)\n",
    "    dist_matrix = np.zeros((n, n))\n",
    "    for i in range(n-1):\n",
    "        x1 = data[i]['x']\n",
    "        y1 = data[i]['y']\n",
    "        dist_matrix[i, i] = np.inf\n",
    "        for j in range(i + 1, n):\n",
    "            x2 = data[j]['x']\n",
    "            y2 = data[j]['y']\n",
    "            dist_matrix[i, j] = sqrt((x1 - x2)**2 + (y1 - y2)**2)\n",
    "            dist_matrix[j, i] = dist_matrix[i, j]\n",
    "    dist_matrix[i + 1, i + 1] = np.inf\n",
    "    return dist_matrix"
   ]
  },
  {
   "cell_type": "code",
   "execution_count": 52,
   "metadata": {},
   "outputs": [],
   "source": [
    "gen_count=100\n",
    "pop_size = 50 \n",
    "Elitism_percentage = 0.05\n",
    "Crossover_robability = 0.8\n",
    "Mutation_probability = 0.15"
   ]
  },
  {
   "cell_type": "code",
   "execution_count": 53,
   "metadata": {},
   "outputs": [],
   "source": [
    "Population_size = 50\n",
    "Elitism_percentage = 0.05\n",
    "CrossOver_Prop = 0.8\n",
    "Mutation_Prop = 0.15\n",
    "Generation_count = 150"
   ]
  },
  {
   "cell_type": "code",
   "execution_count": 54,
   "metadata": {},
   "outputs": [],
   "source": [
    "def initialize_genetic(num_of_cities):\n",
    "    pop = [np.random.permutation(num_of_cities) for i in range (pop_size)]\n",
    "    return np.array(pop)"
   ]
  },
  {
   "cell_type": "code",
   "execution_count": 55,
   "metadata": {},
   "outputs": [],
   "source": [
    "def Cost_Function(population, distances):\n",
    "  J = np.zeros((len(population)))\n",
    "  index = 0\n",
    "  for arr in population:\n",
    "    dist = 0\n",
    "    c0 = arr[0]\n",
    "    for i in range(len(arr) - 1):\n",
    "      c1 = arr[i]\n",
    "      c2 = arr[i + 1]\n",
    "      dist += distances[c1, c2]\n",
    "\n",
    "    dist += distances[c0, c2]\n",
    "    J[index] = dist\n",
    "    index += 1\n",
    "  return J"
   ]
  },
  {
   "cell_type": "code",
   "execution_count": 56,
   "metadata": {},
   "outputs": [],
   "source": [
    "def Total_distance(arr, distances):\n",
    "  dist = 0\n",
    "  c0 = arr[0]\n",
    "  for i in range(len(arr) - 1):\n",
    "      c1 = arr[i]\n",
    "      c2 = arr[i + 1]\n",
    "      dist += distances[c1, c2]\n",
    "\n",
    "  dist += distances[c0, c2]\n",
    "  return dist"
   ]
  },
  {
   "cell_type": "code",
   "execution_count": 57,
   "metadata": {},
   "outputs": [],
   "source": [
    "def Elitism(J):\n",
    "  return population(argmin(J))"
   ]
  },
  {
   "cell_type": "code",
   "execution_count": 58,
   "metadata": {},
   "outputs": [],
   "source": [
    "def CrossOver_SinglePoint(parent1, parent2):\n",
    "    arr_size = len(parent1)//2\n",
    "    \n",
    "    arr1_1 = parent1[:arr_size]\n",
    "    arr1_2 = parent1[arr_size:]\n",
    "    arr2_1 = parent2[:arr_size]\n",
    "    arr2_2 = parent2[arr_size:]\n",
    "\n",
    "    child1 = np.concatenate((arr1_1, arr2_2))\n",
    "    child2 = np.concatenate((arr2_1, arr1_2))\n",
    "    return child1 , child2"
   ]
  },
  {
   "cell_type": "code",
   "execution_count": 59,
   "metadata": {},
   "outputs": [],
   "source": [
    "def CrossOver_MultiPoint(parent1, parent2):\n",
    "    arr_size = len(parent1)//3\n",
    "\n",
    "    arr1_1 = parent1[:arr_size]\n",
    "    arr1_2 = parent1[arr_size:(arr_size*2)]\n",
    "    arr1_3 = parent1[(arr_size*2):]\n",
    "    arr2_1 = parent2[:arr_size]\n",
    "    arr2_2 = parent2[arr_size:(arr_size*2)]\n",
    "    arr2_3 = parent2[(arr_size*2):]\n",
    "\n",
    "    child1 = np.concatenate((arr1_1, arr2_2,arr1_3))\n",
    "    child2 = np.concatenate((arr2_1, arr1_2,arr2_3)) \n",
    "    return child1 , child2"
   ]
  },
  {
   "cell_type": "code",
   "execution_count": 60,
   "metadata": {},
   "outputs": [],
   "source": [
    "def CrossOver_Uniform(parent1, parent2):\n",
    "\n",
    "    child1 = [None] * len(parent1)\n",
    "    child2 = [None] * len(parent2)\n",
    "\n",
    "    for i in range(len(parent1)):\n",
    "        # randomly select a gene from one of the parents\n",
    "        if random.random() < 0.5:\n",
    "            child1[i] = parent1[i]\n",
    "            child2[i] = parent2[i]\n",
    "        else:\n",
    "            child1[i] = parent2[i]\n",
    "            child2[i] = parent1[i]\n",
    "\n",
    "    return child1 , child2"
   ]
  },
  {
   "cell_type": "code",
   "execution_count": 61,
   "metadata": {},
   "outputs": [],
   "source": [
    "def modified_uniform_crossover(Chromosome1, Chromosome2):    \n",
    "    # create a mask to determine which cities to copy from Chromosome1\n",
    "    mask = [np.random.choice([0, 1]) for _ in range(len(Chromosome1))]\n",
    "    \n",
    "    # create a set of cities already copied from Chromosome1\n",
    "    copied_cities = [Chromosome1[i] for i in range(len(Chromosome1)) if mask[i] == 1]\n",
    "    \n",
    "    # create a list of remaining cities in the order of Chromosome2\n",
    "    remaining_cities = [city for city in Chromosome2 if city not in copied_cities]\n",
    "    \n",
    "    # create the offspring by combining the copied cities and remaining cities\n",
    "    offspring = [None] * len(Chromosome1)\n",
    "    for i in range(len(Chromosome1)):\n",
    "        if mask[i] == 1:\n",
    "            offspring[i] = Chromosome1[i]\n",
    "        else:\n",
    "            offspring[i] = remaining_cities.pop(0)\n",
    "    \n",
    "    return offspring"
   ]
  },
  {
   "cell_type": "code",
   "execution_count": 62,
   "metadata": {},
   "outputs": [],
   "source": [
    "def Swap_Mutation(parent):\n",
    "    child = parent.copy()\n",
    "    idx = range(len(child))\n",
    "    i1, i2 = random.sample(idx, 2)\n",
    "    temp = child[i1]\n",
    "    child[i1] = child[i2]\n",
    "    child[i2] = temp\n",
    "    return child"
   ]
  },
  {
   "cell_type": "code",
   "execution_count": 63,
   "metadata": {},
   "outputs": [],
   "source": [
    "def Scramble_Mutation(parent):\n",
    "    child = parent.copy()\n",
    "    index1 = np.random.randint(len(child) - 1)\n",
    "    index2 = np.random.randint(len(child) - 1)\n",
    "    \n",
    "    if index1 > index2:\n",
    "        index1, index2 = index2, index1\n",
    "\n",
    "    subset = child[index1:index2+1]\n",
    "    np.random.shuffle(subset)\n",
    "    child[index1: index2 + 1] = subset\n",
    "        \n",
    "    return list(child)"
   ]
  },
  {
   "cell_type": "code",
   "execution_count": 64,
   "metadata": {},
   "outputs": [],
   "source": [
    "def Inversion_Mutation(parent):\n",
    "    child = parent.copy()\n",
    "    index1 = np.random.randint(len(child) - 1)\n",
    "    index2 = np.random.randint(len(child) - 1)\n",
    "\n",
    "    if index1 > index2:\n",
    "        index1, index2 = index2, index1\n",
    "    \n",
    "    subset = child[index1: index2 + 1]\n",
    "    inverted_values = np.flip(subset)\n",
    "    child[index1: index2 + 1] = inverted_values\n",
    "        \n",
    "    return list(child)"
   ]
  },
  {
   "cell_type": "code",
   "execution_count": 65,
   "metadata": {},
   "outputs": [],
   "source": [
    "def TSP(data, Best_solution):\n",
    "    x = [x['x'] for x in data]\n",
    "    y = [x['y'] for x in data]\n",
    "    plt.scatter(x, y, color = 'b')\n",
    "    x_init, y_init = data[Best_solution[0]]['x'], data[Best_solution[0]]['y']\n",
    "    plt.scatter(x_init, y_init, color = 'r')\n",
    "    plt.text(x_init - 3, y_init - 4, \"Start\")\n",
    "\n",
    "    x = []\n",
    "    y = []\n",
    "    x.append(x_init)\n",
    "    y.append(y_init)\n",
    "    TSP_plot = plt.plot(x, y, color = 'k')\n",
    "\n",
    "    for i, city in enumerate(Best_solution[0:]):\n",
    "        city_x, city_y = data[Best_solution[i]]['x'], data[Best_solution[i]]['y']\n",
    "        x.append(city_x)\n",
    "        y.append(city_y)  \n",
    "        plt.setp(TSP_plot, xdata = x, ydata = y)\n",
    "        plt.pause(0.3)\n",
    "\n",
    "    x.append(x_init)\n",
    "    y.append(y_init)\n",
    "    plt.setp(TSP_plot, xdata = x, ydata = y)\n",
    "    plt.pause(0.3)"
   ]
  },
  {
   "cell_type": "code",
   "execution_count": 66,
   "metadata": {},
   "outputs": [],
   "source": [
    "def Genetic_Algorithm (data,Elitism_percentage,Crossover_robability,Mutation_probability,gen_count):\n",
    "    \n",
    "    # Load Data\n",
    "    data = load_data(data)\n",
    "\n",
    "    # Calculate the distances and intialize population\n",
    "    distances = Generate_distance(data)\n",
    "    population = initialize_genetic(len(data))\n",
    "\n",
    "    # calculate Cost \n",
    "    J = Cost_Function(population, distances) \n",
    "    # sort population\n",
    "    sorted_population = population[J.argsort()]\n",
    "\n",
    "    # Calculate the number of elites, crossovers and mutations\n",
    "    num_elites = round(Elitism_percentage * len(sorted_population))\n",
    "    num_crossovers = round(Crossover_robability * (len(sorted_population) - num_elites))\n",
    "    num_mutations = round(Mutation_probability * (len(population) - num_elites))\n",
    "\n",
    "\n",
    "    for gene in range(gen_count):\n",
    "        Next_Generation = []\n",
    "             \n",
    "        for i in range(num_elites):\n",
    "          Next_Generation.append(sorted_population[i])\n",
    "\n",
    "        for i in range(num_crossovers):\n",
    "          inx1 = np.random.randint(num_elites, len(sorted_population) - 1)\n",
    "          inx2 = np.random.randint(num_elites, len(sorted_population) - 1)\n",
    "          parent1 = sorted_population[inx1]\n",
    "          parent2 = sorted_population[inx2]\n",
    "\n",
    "          child =  modified_uniform_crossover(parent1, parent2)\n",
    "          Next_Generation.append(child)\n",
    "\n",
    "        for i in range(num_mutations):\n",
    "          inx = np.random.randint(len(sorted_population) - 1)\n",
    "          parent = sorted_population[inx]\n",
    "\n",
    "          Mutation_method = np.random.choice(['Swap_Mutation', 'Scramble_Mutation', 'Inversion_Mutation'])\n",
    "          if Mutation_method == 'Swap_Mutation':\n",
    "            child = Swap_Mutation(parent)\n",
    "\n",
    "          elif Mutation_method == 'Inversion_Mutation':\n",
    "            child = Inversion_Mutation(parent)\n",
    "\n",
    "          else:\n",
    "            child = Scramble_Mutation(parent)\n",
    "\n",
    "          selection = [parent, child]\n",
    "          Next_Generation.append(child)\n",
    "        \n",
    "        # Set the current population to the next generation\n",
    "        Next_Generation = np.concatenate([Next_Generation, sorted_population]).reshape(-1, len(distances))\n",
    "\n",
    "        # Calculate the cost function for each population\n",
    "        J = Cost_Function(Next_Generation, distances)\n",
    "        # Sort the population by J value\n",
    "        sorted_population = Next_Generation[J.argsort()][:50]\n",
    "\n",
    "    # Return the best solution found\n",
    "    Best_solution = sorted_population[0]\n",
    "    \n",
    "    distance = Total_distance(Best_solution, distances)\n",
    "    TSP(data, Best_solution)\n",
    "\n",
    "\n",
    "    return Best_solution ,distance"
   ]
  },
  {
   "cell_type": "code",
   "execution_count": 67,
   "metadata": {},
   "outputs": [],
   "source": [
    "BestSolution,distance = Genetic_Algorithm(data, Elitism_percentage, Crossover_robability, Mutation_probability, gen_count)"
   ]
  },
  {
   "cell_type": "code",
   "execution_count": 68,
   "metadata": {},
   "outputs": [
    {
     "data": {
      "text/plain": [
       "array([ 5,  3, 10,  0, 12, 14,  8,  4,  6,  2, 11, 13,  9,  1,  7])"
      ]
     },
     "execution_count": 68,
     "metadata": {},
     "output_type": "execute_result"
    }
   ],
   "source": [
    "BestSolution"
   ]
  },
  {
   "cell_type": "code",
   "execution_count": 69,
   "metadata": {},
   "outputs": [
    {
     "name": "stdout",
     "output_type": "stream",
     "text": [
      "the total distance = 315.25004166379216\n"
     ]
    }
   ],
   "source": [
    "print(f'the total distance = {distance}')"
   ]
  }
 ],
 "metadata": {
  "kernelspec": {
   "display_name": "Python 3",
   "language": "python",
   "name": "python3"
  },
  "language_info": {
   "codemirror_mode": {
    "name": "ipython",
    "version": 3
   },
   "file_extension": ".py",
   "mimetype": "text/x-python",
   "name": "python",
   "nbconvert_exporter": "python",
   "pygments_lexer": "ipython3",
   "version": "3.11.3"
  },
  "orig_nbformat": 4
 },
 "nbformat": 4,
 "nbformat_minor": 2
}
